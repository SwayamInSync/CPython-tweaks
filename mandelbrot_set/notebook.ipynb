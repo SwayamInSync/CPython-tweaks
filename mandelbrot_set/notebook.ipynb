{
 "cells": [
  {
   "cell_type": "code",
   "execution_count": null,
   "metadata": {},
   "outputs": [],
   "source": [
    "import mandelbrot\n",
    "import numpy as np\n",
    "import matplotlib.pyplot as plt\n",
    "from ipywidgets import FloatText, IntText, Button, Output, VBox, HBox\n",
    "\n",
    "out = Output()\n",
    "\n",
    "def plot_mandelbrot(width, height, max_iter, center_r, center_i, zoom):\n",
    "    raw_data = mandelbrot.mandelbrot_set(width, height, max_iter, center_r, center_i, zoom)\n",
    "    img_array = np.frombuffer(raw_data, dtype=np.uint8).reshape((height, width, 3))\n",
    "    \n",
    "    with out:\n",
    "        out.clear_output(wait=True)\n",
    "        plt.figure(figsize=(10, 10))\n",
    "        plt.imshow(img_array)\n",
    "        plt.axis('off')\n",
    "        plt.title(f'Mandelbrot Set (zoom: {zoom:.2e}, center: {center_r:.6f} + {center_i:.6f}i)')\n",
    "        plt.show()\n",
    "\n",
    "width = IntText(value=800, description='Width:')\n",
    "height = IntText(value=800, description='Height:')\n",
    "max_iter = IntText(value=1000, description='Max Iterations:')\n",
    "center_r = FloatText(value=-0.75, description='Center Real:')\n",
    "center_i = FloatText(value=0.0, description='Center Imag:')\n",
    "zoom = FloatText(value=1.0, description='Zoom:')\n",
    "\n",
    "button = Button(description=\"Generate Mandelbrot\")\n",
    "\n",
    "def on_button_clicked(b):\n",
    "    plot_mandelbrot(width.value, height.value, max_iter.value, center_r.value, center_i.value, zoom.value)\n",
    "\n",
    "button.on_click(on_button_clicked)\n",
    "\n",
    "inputs = VBox([width, height, max_iter, center_r, center_i, zoom, button])\n",
    "display(HBox([inputs, out]))"
   ]
  }
 ],
 "metadata": {
  "language_info": {
   "name": "python"
  }
 },
 "nbformat": 4,
 "nbformat_minor": 2
}
